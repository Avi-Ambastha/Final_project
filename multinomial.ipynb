{
 "cells": [
  {
   "cell_type": "code",
   "execution_count": 1,
   "id": "a98a371a-d42a-4559-87ba-3a0e149401c9",
   "metadata": {},
   "outputs": [],
   "source": [
    "import pandas as pd \n",
    "import numpy as np \n",
    "import pickle\n",
    "import joblib"
   ]
  },
  {
   "cell_type": "code",
   "execution_count": 2,
   "id": "731970ed-e92f-4dcd-a4ac-9bdd1f05c56c",
   "metadata": {},
   "outputs": [
    {
     "data": {
      "text/html": [
       "<div>\n",
       "<style scoped>\n",
       "    .dataframe tbody tr th:only-of-type {\n",
       "        vertical-align: middle;\n",
       "    }\n",
       "\n",
       "    .dataframe tbody tr th {\n",
       "        vertical-align: top;\n",
       "    }\n",
       "\n",
       "    .dataframe thead th {\n",
       "        text-align: right;\n",
       "    }\n",
       "</style>\n",
       "<table border=\"1\" class=\"dataframe\">\n",
       "  <thead>\n",
       "    <tr style=\"text-align: right;\">\n",
       "      <th></th>\n",
       "      <th>message</th>\n",
       "      <th>label</th>\n",
       "    </tr>\n",
       "  </thead>\n",
       "  <tbody>\n",
       "    <tr>\n",
       "      <th>0</th>\n",
       "      <td>Use the meth code when dealing with the customs.</td>\n",
       "      <td>1</td>\n",
       "    </tr>\n",
       "    <tr>\n",
       "      <th>1</th>\n",
       "      <td>I'll bring the reports to the office tomorrow.</td>\n",
       "      <td>0</td>\n",
       "    </tr>\n",
       "    <tr>\n",
       "      <th>2</th>\n",
       "      <td>The shipment contains cocaine, be careful at t...</td>\n",
       "      <td>1</td>\n",
       "    </tr>\n",
       "    <tr>\n",
       "      <th>3</th>\n",
       "      <td>Can you send me the file by the end of the day?</td>\n",
       "      <td>0</td>\n",
       "    </tr>\n",
       "    <tr>\n",
       "      <th>4</th>\n",
       "      <td>Hide the narcotics in the container with elect...</td>\n",
       "      <td>1</td>\n",
       "    </tr>\n",
       "    <tr>\n",
       "      <th>...</th>\n",
       "      <td>...</td>\n",
       "      <td>...</td>\n",
       "    </tr>\n",
       "    <tr>\n",
       "      <th>1511</th>\n",
       "      <td>The client requested a revision of the marketi...</td>\n",
       "      <td>0</td>\n",
       "    </tr>\n",
       "    <tr>\n",
       "      <th>1512</th>\n",
       "      <td>Please update the minutes and send it out to e...</td>\n",
       "      <td>0</td>\n",
       "    </tr>\n",
       "    <tr>\n",
       "      <th>1513</th>\n",
       "      <td>Let’s schedule a meeting to discuss the custom...</td>\n",
       "      <td>0</td>\n",
       "    </tr>\n",
       "    <tr>\n",
       "      <th>1514</th>\n",
       "      <td>The team will meet to finalize the marketing s...</td>\n",
       "      <td>0</td>\n",
       "    </tr>\n",
       "    <tr>\n",
       "      <th>1515</th>\n",
       "      <td>We need to handle the methamphetamine with car...</td>\n",
       "      <td>1</td>\n",
       "    </tr>\n",
       "  </tbody>\n",
       "</table>\n",
       "<p>1516 rows × 2 columns</p>\n",
       "</div>"
      ],
      "text/plain": [
       "                                                message  label\n",
       "0      Use the meth code when dealing with the customs.      1\n",
       "1        I'll bring the reports to the office tomorrow.      0\n",
       "2     The shipment contains cocaine, be careful at t...      1\n",
       "3       Can you send me the file by the end of the day?      0\n",
       "4     Hide the narcotics in the container with elect...      1\n",
       "...                                                 ...    ...\n",
       "1511  The client requested a revision of the marketi...      0\n",
       "1512  Please update the minutes and send it out to e...      0\n",
       "1513  Let’s schedule a meeting to discuss the custom...      0\n",
       "1514  The team will meet to finalize the marketing s...      0\n",
       "1515  We need to handle the methamphetamine with car...      1\n",
       "\n",
       "[1516 rows x 2 columns]"
      ]
     },
     "execution_count": 2,
     "metadata": {},
     "output_type": "execute_result"
    }
   ],
   "source": [
    "data=pd.read_csv(\"C:\\\\Users\\\\Avi_Ambastha\\\\Desktop\\\\final-data\",index_col=False)\n",
    "data\n",
    "more_data=pd.read_csv(\"C:\\\\Users\\\\Avi_Ambastha\\\\Desktop\\\\drug_chat_detection_data.csv\",index_col=False)\n",
    "data=pd.concat((data,more_data)).reset_index()\n",
    "del data[\"index\"]\n",
    "data"
   ]
  },
  {
   "cell_type": "code",
   "execution_count": 3,
   "id": "649350b6-58f0-452a-a4a6-beeb6c50494a",
   "metadata": {},
   "outputs": [
    {
     "data": {
      "text/html": [
       "<div>\n",
       "<style scoped>\n",
       "    .dataframe tbody tr th:only-of-type {\n",
       "        vertical-align: middle;\n",
       "    }\n",
       "\n",
       "    .dataframe tbody tr th {\n",
       "        vertical-align: top;\n",
       "    }\n",
       "\n",
       "    .dataframe thead th {\n",
       "        text-align: right;\n",
       "    }\n",
       "</style>\n",
       "<table border=\"1\" class=\"dataframe\">\n",
       "  <thead>\n",
       "    <tr style=\"text-align: right;\">\n",
       "      <th></th>\n",
       "      <th>message</th>\n",
       "      <th>label</th>\n",
       "    </tr>\n",
       "  </thead>\n",
       "  <tbody>\n",
       "    <tr>\n",
       "      <th>0</th>\n",
       "      <td>usemethcodewhendealingwithcustoms.</td>\n",
       "      <td>1</td>\n",
       "    </tr>\n",
       "    <tr>\n",
       "      <th>1</th>\n",
       "      <td>bringreportsofficetomorrow.</td>\n",
       "      <td>0</td>\n",
       "    </tr>\n",
       "    <tr>\n",
       "      <th>2</th>\n",
       "      <td>shipmentcontainscocaine,becarefulhighway.</td>\n",
       "      <td>1</td>\n",
       "    </tr>\n",
       "    <tr>\n",
       "      <th>3</th>\n",
       "      <td>sendmefilebyendofday?</td>\n",
       "      <td>0</td>\n",
       "    </tr>\n",
       "    <tr>\n",
       "      <th>4</th>\n",
       "      <td>hidenarcoticscontainerwithelectronics.</td>\n",
       "      <td>1</td>\n",
       "    </tr>\n",
       "    <tr>\n",
       "      <th>...</th>\n",
       "      <td>...</td>\n",
       "      <td>...</td>\n",
       "    </tr>\n",
       "    <tr>\n",
       "      <th>1511</th>\n",
       "      <td>clientrequestedrevisionofmarketingstrategybyfr...</td>\n",
       "      <td>0</td>\n",
       "    </tr>\n",
       "    <tr>\n",
       "      <th>1512</th>\n",
       "      <td>pleaseupdateminutesandsenditouteveryone.</td>\n",
       "      <td>0</td>\n",
       "    </tr>\n",
       "    <tr>\n",
       "      <th>1513</th>\n",
       "      <td>let’sschedulemeetingdiscusscustomerservice.</td>\n",
       "      <td>0</td>\n",
       "    </tr>\n",
       "    <tr>\n",
       "      <th>1514</th>\n",
       "      <td>teammeetfinalizemarketingstrategy.</td>\n",
       "      <td>0</td>\n",
       "    </tr>\n",
       "    <tr>\n",
       "      <th>1515</th>\n",
       "      <td>needhandlemethamphetaminewithcareduringtransport.</td>\n",
       "      <td>1</td>\n",
       "    </tr>\n",
       "  </tbody>\n",
       "</table>\n",
       "<p>1516 rows × 2 columns</p>\n",
       "</div>"
      ],
      "text/plain": [
       "                                                message  label\n",
       "0                    usemethcodewhendealingwithcustoms.      1\n",
       "1                           bringreportsofficetomorrow.      0\n",
       "2             shipmentcontainscocaine,becarefulhighway.      1\n",
       "3                                 sendmefilebyendofday?      0\n",
       "4                hidenarcoticscontainerwithelectronics.      1\n",
       "...                                                 ...    ...\n",
       "1511  clientrequestedrevisionofmarketingstrategybyfr...      0\n",
       "1512           pleaseupdateminutesandsenditouteveryone.      0\n",
       "1513        let’sschedulemeetingdiscusscustomerservice.      0\n",
       "1514                 teammeetfinalizemarketingstrategy.      0\n",
       "1515  needhandlemethamphetaminewithcareduringtransport.      1\n",
       "\n",
       "[1516 rows x 2 columns]"
      ]
     },
     "execution_count": 3,
     "metadata": {},
     "output_type": "execute_result"
    }
   ],
   "source": [
    "def remove_connectors(text):\n",
    "    clean_text=\"\"\n",
    "    connectors=[\"a\",\"an\",\"the\",\"in\",\"on\",\"at\",\"was\",\"is\",\"to\",\"for\",\"from\",\"i\",\"we\",\"us\",\"i'll\",\"will\",\"we'll\",\"you\",\"can\"]\n",
    "    for char in text.split():\n",
    "        if char not in connectors:\n",
    "            clean_text+=char\n",
    "    return clean_text\n",
    "def clean(text):\n",
    "    clean_text=\"\"\n",
    "    for char in text:\n",
    "        if char.isalnum():\n",
    "            clean_text+=char\n",
    "    return clean_text\n",
    "learning_data=data.copy()\n",
    "lower_text=list(map(lambda x:x.lower(),learning_data['message']))\n",
    "clean_text=list(map(remove_connectors,lower_text))\n",
    "learning_data['message']=clean_text\n",
    "learning_data"
   ]
  },
  {
   "cell_type": "code",
   "execution_count": 4,
   "id": "3c5ad36b-cd1d-487e-b2f7-6eadb619e012",
   "metadata": {},
   "outputs": [],
   "source": [
    "from sklearn.feature_extraction.text import CountVectorizer\n",
    "from sklearn.model_selection import train_test_split"
   ]
  },
  {
   "cell_type": "code",
   "execution_count": 5,
   "id": "16986de2-a6dc-4e72-833e-92d4cd62184d",
   "metadata": {},
   "outputs": [],
   "source": [
    "vectorizer= CountVectorizer(stop_words='english')"
   ]
  },
  {
   "cell_type": "code",
   "execution_count": 6,
   "id": "0f298aec-2546-4b55-9f57-8c5897c554e7",
   "metadata": {},
   "outputs": [],
   "source": [
    "train_data_encoded=vectorizer.fit_transform(learning_data['message'])\n"
   ]
  },
  {
   "cell_type": "code",
   "execution_count": 7,
   "id": "6183cb66-1f46-435c-b518-f2bdc101eb00",
   "metadata": {},
   "outputs": [],
   "source": [
    "from sklearn.naive_bayes import MultinomialNB\n",
    "from sklearn import metrics "
   ]
  },
  {
   "cell_type": "code",
   "execution_count": 8,
   "id": "06a886f7-e5e2-48b8-a388-8d076d9fe9d2",
   "metadata": {},
   "outputs": [],
   "source": [
    "from sklearn.model_selection import train_test_split\n",
    "from sklearn.metrics import accuracy_score"
   ]
  },
  {
   "cell_type": "code",
   "execution_count": 9,
   "id": "474a1b66-0ad4-4f01-a73a-8fc1d64227d4",
   "metadata": {},
   "outputs": [],
   "source": [
    "train_data,test_data,train_results,test_results=train_test_split(train_data_encoded,learning_data['label'].copy(),test_size=0.2,random_state=42)"
   ]
  },
  {
   "cell_type": "code",
   "execution_count": 23,
   "id": "a68bf2d3-b778-4a18-9156-fde8a8bad0db",
   "metadata": {},
   "outputs": [
    {
     "name": "stdout",
     "output_type": "stream",
     "text": [
      "Accuracy: 0.84\n"
     ]
    },
    {
     "data": {
      "text/plain": [
       "1.0"
      ]
     },
     "execution_count": 23,
     "metadata": {},
     "output_type": "execute_result"
    }
   ],
   "source": [
    "model=MultinomialNB()\n",
    "model.fit((train_data),train_results)\n",
    "predictions=model.predict(test_data,)\n",
    "accuracy=accuracy_score(test_results,predictions)\n",
    "print(f\"Accuracy: {accuracy:.2f}\")\n",
    "accuracy_score(train_results,model.predict(train_data))"
   ]
  },
  {
   "cell_type": "code",
   "execution_count": 11,
   "id": "f3a5462f-1848-4a3a-9289-789810e68015",
   "metadata": {},
   "outputs": [
    {
     "data": {
      "text/plain": [
       "['vectorizer.pkl']"
      ]
     },
     "execution_count": 11,
     "metadata": {},
     "output_type": "execute_result"
    }
   ],
   "source": [
    "with open('final_model.pkl','wb') as file:\n",
    "    pickle.dump(model,file)\n",
    "joblib.dump(vectorizer,'vectorizer.pkl')"
   ]
  },
  {
   "cell_type": "code",
   "execution_count": 22,
   "id": "d7b3d91c-bacb-48bc-addb-49f2d07e33ff",
   "metadata": {},
   "outputs": [
    {
     "data": {
      "text/plain": [
       "array([1], dtype=int64)"
      ]
     },
     "execution_count": 22,
     "metadata": {},
     "output_type": "execute_result"
    }
   ],
   "source": [
    "text=\"Business\"\n",
    "text=pd.Series(text)\n",
    "text=vectorizer.transform(text)\n",
    "model.predict(text)"
   ]
  }
 ],
 "metadata": {
  "kernelspec": {
   "display_name": "Python 3 (ipykernel)",
   "language": "python",
   "name": "python3"
  },
  "language_info": {
   "codemirror_mode": {
    "name": "ipython",
    "version": 3
   },
   "file_extension": ".py",
   "mimetype": "text/x-python",
   "name": "python",
   "nbconvert_exporter": "python",
   "pygments_lexer": "ipython3",
   "version": "3.8.10"
  }
 },
 "nbformat": 4,
 "nbformat_minor": 5
}
